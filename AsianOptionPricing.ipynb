{
  "metadata": {
    "language_info": {
      "codemirror_mode": {
        "name": "python",
        "version": 3
      },
      "file_extension": ".py",
      "mimetype": "text/x-python",
      "name": "python",
      "nbconvert_exporter": "python",
      "pygments_lexer": "ipython3",
      "version": "3.8"
    },
    "kernelspec": {
      "name": "python",
      "display_name": "Python (Pyodide)",
      "language": "python"
    }
  },
  "nbformat_minor": 4,
  "nbformat": 4,
  "cells": [
    {
      "cell_type": "markdown",
      "source": "Before we start, let us first import necessary libraries to code on Python.",
      "metadata": {}
    },
    {
      "cell_type": "code",
      "source": "import numpy as np\nimport math",
      "metadata": {
        "trusted": true
      },
      "execution_count": 1,
      "outputs": []
    },
    {
      "cell_type": "code",
      "source": "def sqrt(x):                 #Square roots generating function(Babylonian Method)\n    n = 1\n    for _ in range(100):\n        n = (n + x/n) * 0.5\n    return n",
      "metadata": {
        "trusted": true
      },
      "execution_count": 2,
      "outputs": []
    },
    {
      "cell_type": "markdown",
      "source": "The Cumulative Distribution Function of the standard normal distribution is denoted by the $\\Phi$ function:\n\\begin{equation}\n    \\Phi(x) = \\frac{1}{\\sqrt{2\\pi}} \\int_{-\\infty}^{x_{0}} e^{-\\frac{x^{2}}{2}} dx\n\\end{equation}",
      "metadata": {}
    },
    {
      "cell_type": "code",
      "source": "def my_cdf(x): #this is used to compute the cdf of a normal distribution\n    return 0.5*(1+math.erf(x/sqrt(2))) #error function from math package invoked",
      "metadata": {
        "trusted": true
      },
      "execution_count": 3,
      "outputs": []
    },
    {
      "cell_type": "markdown",
      "source": "The Asian options with geometric average; for the continuous case, is written as:\n\\begin{equation}\nA(0,T) = e^{\\frac {1}{T}\\int_{0}^{T}\\ln(S(t))dt}\n\\end{equation}\n\nwhere, $S(t) = S_{0}e^{(\\mu-\\frac{\\sigma^{2}}{2})t + \\sigma W_{t}} $ and given, $W_{t}$ is a Wiener process.",
      "metadata": {}
    },
    {
      "cell_type": "code",
      "source": "def my_exp(x):                              #Exponential Generating Function\n    return (2.71828**x)\n\ndef AsianCallOption(S0,K,r,T,sigma,N):      #Asian Call Option with geometric average\n    dt = T/N                                #differential steps\n    a = np.log(S0)+0.5*(r-0.5*sigma**2)*(T+dt)#Averaged first volatility terms\n    b = (sigma**2)*dt+((sigma**2*(T-dt))/(6*N))*(2*N-1) # Averaged second volatility terms from Black-Scholes Eq\n    x = (a/sqrt(b)) + sqrt(b)-(np.log(K)/sqrt(b))    #d1 like European Call Option\n    p = my_exp(-r*T)*(my_exp(a+0.5*b)*my_cdf(x)-K*my_cdf(x-sqrt(b))) #value of Call option\n    return p",
      "metadata": {
        "trusted": true
      },
      "execution_count": 4,
      "outputs": []
    },
    {
      "cell_type": "markdown",
      "source": "Time adjusted volatility is: $\\sigma = \\sigma_{0} \\sqrt{T}$, where $\\sigma_{0}$ is historical/parametric volatility.",
      "metadata": {}
    },
    {
      "cell_type": "code",
      "source": "def Paths(S0,r,sigma,T,N,MC):  #This function generates different values of stock prices over time\n    S = np.zeros((MC,N))       #Initialize the Stock price with zeros\n    S[:,0] = S0                #Fill the first column of Stock prices data with inputs \n    dt = T/N                   #T = time frame, N = number of steps\n    ft = (r-0.5*sigma**2)*dt   #First part of Black Scholes solution\n    st = sigma*sqrt(dt)        #Second part of the Black Scholes solution\n    wiener = np.zeros((MC,N))  #Initialize the Wiener matrix\n    for k in range(N):         #Iterating over columns\n        wiener[:,k] = np.random.normal(0,1,MC) #Generating random values for wiener process\n    i = 0                      #initialize the while loop\n    while i < MC:              #iterate the while loop number of time 'Monte Carlo Simulations' is run\n        for j in range(0,N-1): #Generating 'N-1' values of stock prices over time frame\n            S[i,j+1] = S[i,j]*my_exp(ft+st*wiener[i,j]) #Wiener process invoked into equation\n        i = i+1\n    return S                   #Generates all the Stock prices data over time frame and each steps",
      "metadata": {
        "tags": [],
        "trusted": true
      },
      "execution_count": 5,
      "outputs": []
    },
    {
      "cell_type": "code",
      "source": "def my_max(p1,p2):                          #Maxima calculator between two numbers.\n    if (p1>=p2):\n        return p1\n    else:\n        return p2\n    \ndef my_mean(x):                             #Mean calcutor function\n    return sum(x)/len(x)\n\ndef AsianCallOptionMC(S0,K,r,T,sigma,N,MC): #Monte Carlo simulation with Asian option\n    prices = np.zeros(MC)                   #Initialize payoff list\n    i = 0                                   #initialize while loop\n    while i < MC:                           #iterate the process for every iterations of monte carlo simulations\n        path = Paths(S0,r,sigma,T,N,1)      #initialize paths value\n        prices[i] = my_max(my_mean(path[0,:])-K,0)     #averaging the payoffs arithmetically for each rows\n        i = i+1                                            #in Stock prices.\n    price = my_mean(my_exp(-r*T)*prices)                   #payoffs is multiplied with risk-free rate\n    return price                                           #returns final stock prices predicted by MC method",
      "metadata": {
        "trusted": true
      },
      "execution_count": 6,
      "outputs": []
    },
    {
      "cell_type": "code",
      "source": "print(f\"Value of Asian Call option is: {round(AsianCallOption(100,101,0.05,1,0.1,1000),2)}\")\nprint(f\"Value of Asian Call option(Monte Carlo) is: {round(AsianCallOptionMC(100,101,0.05,1,0.1,120,10000),2)}\")",
      "metadata": {
        "trusted": true
      },
      "execution_count": 7,
      "outputs": [
        {
          "name": "stdout",
          "text": "Value of Asian Call option is: 2.99\nValue of Asian Call option(Monte Carlo) is: 2.99\n",
          "output_type": "stream"
        }
      ]
    }
  ]
}